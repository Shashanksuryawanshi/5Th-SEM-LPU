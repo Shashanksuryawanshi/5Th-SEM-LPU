{
 "cells": [
  {
   "cell_type": "code",
   "execution_count": 2,
   "id": "94617ef1-8374-4d8f-9b3e-574240afe1cd",
   "metadata": {},
   "outputs": [],
   "source": [
    "import pandas as pd \n",
    "import numpy as np\n"
   ]
  },
  {
   "cell_type": "code",
   "execution_count": 3,
   "id": "58834f50-5d26-42ca-a2f2-133314f743d3",
   "metadata": {},
   "outputs": [],
   "source": [
    "from sklearn.impute import SimpleImputer"
   ]
  },
  {
   "cell_type": "markdown",
   "id": "20f57621-1585-4293-bbd7-8e5f5be88904",
   "metadata": {},
   "source": [
    "#An imputer is used to handle missing data in a dataset. Missing values can skew analysis and lead to incorrect conclusions, so imputers help maintain data integrity. Here's why they're essential:\n",
    "\n",
    "Data Completeness: Imputers fill in the missing values, ensuring the dataset is complete and usable.\n",
    "\n",
    "Consistency: They provide consistent methods for handling missing data, avoiding biased results.\n",
    "\n",
    "Efficiency: By imputing missing values, you avoid losing valuable data that can happen if you drop rows or columns with missing values.\n",
    "\n",
    "Algorithm Requirements: Many machine learning algorithms require complete datasets to function properly.\n",
    "\n",
    "Common imputation strategies include:\n",
    "\n",
    "Mean/Median/Mode Imputation: Replacing missing values with the mean, median, or mode of the column.\n",
    "\n",
    "Forward/Backward Fill: Using adjacent values to fill in missing entries.\n",
    "\n",
    "Predictive Modeling: Using algorithms to predict and fill missing values based on other data.\n",
    "\n",
    "Tools like SimpleImputer from sklearn make this process straightforward. Got a dataset you’re looking to clean up?\n",
    "\n"
   ]
  },
  {
   "cell_type": "code",
   "execution_count": 4,
   "id": "9046db0e-5807-4a29-905a-d7ce539fdec3",
   "metadata": {},
   "outputs": [
    {
     "name": "stdout",
     "output_type": "stream",
     "text": [
      "Requirement already satisfied: scikit-learn in /Users/admin/Sha-Sha-nk/anaconda3/lib/python3.12/site-packages (1.4.2)\n",
      "Requirement already satisfied: numpy>=1.19.5 in /Users/admin/Sha-Sha-nk/anaconda3/lib/python3.12/site-packages (from scikit-learn) (1.26.4)\n",
      "Requirement already satisfied: scipy>=1.6.0 in /Users/admin/Sha-Sha-nk/anaconda3/lib/python3.12/site-packages (from scikit-learn) (1.13.1)\n",
      "Requirement already satisfied: joblib>=1.2.0 in /Users/admin/Sha-Sha-nk/anaconda3/lib/python3.12/site-packages (from scikit-learn) (1.4.2)\n",
      "Requirement already satisfied: threadpoolctl>=2.0.0 in /Users/admin/Sha-Sha-nk/anaconda3/lib/python3.12/site-packages (from scikit-learn) (2.2.0)\n"
     ]
    }
   ],
   "source": [
    "!pip install scikit-learn"
   ]
  },
  {
   "cell_type": "code",
   "execution_count": 6,
   "id": "4066e200-f4ae-4e4a-b848-7ddea711474c",
   "metadata": {},
   "outputs": [],
   "source": [
    "df = pd.read_csv(\"Data.csv\")"
   ]
  },
  {
   "cell_type": "markdown",
   "id": "7acb4017-8f53-4948-a305-1a107ee1875a",
   "metadata": {},
   "source": [
    "# NUMERIC NULL VALUES HANDLING"
   ]
  },
  {
   "cell_type": "code",
   "execution_count": 7,
   "id": "1ada0b30-ecaf-4742-b523-f2bb6f473a35",
   "metadata": {},
   "outputs": [
    {
     "data": {
      "text/html": [
       "<div>\n",
       "<style scoped>\n",
       "    .dataframe tbody tr th:only-of-type {\n",
       "        vertical-align: middle;\n",
       "    }\n",
       "\n",
       "    .dataframe tbody tr th {\n",
       "        vertical-align: top;\n",
       "    }\n",
       "\n",
       "    .dataframe thead th {\n",
       "        text-align: right;\n",
       "    }\n",
       "</style>\n",
       "<table border=\"1\" class=\"dataframe\">\n",
       "  <thead>\n",
       "    <tr style=\"text-align: right;\">\n",
       "      <th></th>\n",
       "      <th>Country</th>\n",
       "      <th>Age</th>\n",
       "      <th>Salary</th>\n",
       "      <th>Purchased</th>\n",
       "    </tr>\n",
       "  </thead>\n",
       "  <tbody>\n",
       "    <tr>\n",
       "      <th>0</th>\n",
       "      <td>France</td>\n",
       "      <td>44.0</td>\n",
       "      <td>72000.0</td>\n",
       "      <td>Yes</td>\n",
       "    </tr>\n",
       "    <tr>\n",
       "      <th>1</th>\n",
       "      <td>Spain</td>\n",
       "      <td>27.0</td>\n",
       "      <td>48000.0</td>\n",
       "      <td>Yes</td>\n",
       "    </tr>\n",
       "    <tr>\n",
       "      <th>2</th>\n",
       "      <td>NaN</td>\n",
       "      <td>30.0</td>\n",
       "      <td>54000.0</td>\n",
       "      <td>NaN</td>\n",
       "    </tr>\n",
       "    <tr>\n",
       "      <th>3</th>\n",
       "      <td>Spain</td>\n",
       "      <td>38.0</td>\n",
       "      <td>61000.0</td>\n",
       "      <td>No</td>\n",
       "    </tr>\n",
       "    <tr>\n",
       "      <th>4</th>\n",
       "      <td>Germany</td>\n",
       "      <td>40.0</td>\n",
       "      <td>NaN</td>\n",
       "      <td>Yes</td>\n",
       "    </tr>\n",
       "    <tr>\n",
       "      <th>5</th>\n",
       "      <td>France</td>\n",
       "      <td>35.0</td>\n",
       "      <td>58000.0</td>\n",
       "      <td>Yes</td>\n",
       "    </tr>\n",
       "    <tr>\n",
       "      <th>6</th>\n",
       "      <td>Spain</td>\n",
       "      <td>NaN</td>\n",
       "      <td>52000.0</td>\n",
       "      <td>No</td>\n",
       "    </tr>\n",
       "    <tr>\n",
       "      <th>7</th>\n",
       "      <td>France</td>\n",
       "      <td>48.0</td>\n",
       "      <td>79000.0</td>\n",
       "      <td>Yes</td>\n",
       "    </tr>\n",
       "    <tr>\n",
       "      <th>8</th>\n",
       "      <td>Germany</td>\n",
       "      <td>50.0</td>\n",
       "      <td>83000.0</td>\n",
       "      <td>No</td>\n",
       "    </tr>\n",
       "    <tr>\n",
       "      <th>9</th>\n",
       "      <td>France</td>\n",
       "      <td>37.0</td>\n",
       "      <td>67000.0</td>\n",
       "      <td>Yes</td>\n",
       "    </tr>\n",
       "  </tbody>\n",
       "</table>\n",
       "</div>"
      ],
      "text/plain": [
       "   Country   Age   Salary Purchased\n",
       "0   France  44.0  72000.0       Yes\n",
       "1    Spain  27.0  48000.0       Yes\n",
       "2      NaN  30.0  54000.0       NaN\n",
       "3    Spain  38.0  61000.0        No\n",
       "4  Germany  40.0      NaN       Yes\n",
       "5   France  35.0  58000.0       Yes\n",
       "6    Spain   NaN  52000.0        No\n",
       "7   France  48.0  79000.0       Yes\n",
       "8  Germany  50.0  83000.0        No\n",
       "9   France  37.0  67000.0       Yes"
      ]
     },
     "execution_count": 7,
     "metadata": {},
     "output_type": "execute_result"
    }
   ],
   "source": [
    "df"
   ]
  },
  {
   "cell_type": "markdown",
   "id": "ac5c8acb-057c-45c2-8df7-bacf0a18c666",
   "metadata": {},
   "source": [
    "# 1st Method (SIMPLE DROPNA)\n",
    "\n",
    "\n",
    "\n",
    "\n"
   ]
  },
  {
   "cell_type": "code",
   "execution_count": 9,
   "id": "31406467-dd7b-430c-89d9-6fe811b9dd35",
   "metadata": {},
   "outputs": [
    {
     "data": {
      "text/html": [
       "<div>\n",
       "<style scoped>\n",
       "    .dataframe tbody tr th:only-of-type {\n",
       "        vertical-align: middle;\n",
       "    }\n",
       "\n",
       "    .dataframe tbody tr th {\n",
       "        vertical-align: top;\n",
       "    }\n",
       "\n",
       "    .dataframe thead th {\n",
       "        text-align: right;\n",
       "    }\n",
       "</style>\n",
       "<table border=\"1\" class=\"dataframe\">\n",
       "  <thead>\n",
       "    <tr style=\"text-align: right;\">\n",
       "      <th></th>\n",
       "      <th>Country</th>\n",
       "      <th>Age</th>\n",
       "      <th>Salary</th>\n",
       "      <th>Purchased</th>\n",
       "    </tr>\n",
       "  </thead>\n",
       "  <tbody>\n",
       "    <tr>\n",
       "      <th>0</th>\n",
       "      <td>France</td>\n",
       "      <td>44.0</td>\n",
       "      <td>72000.0</td>\n",
       "      <td>Yes</td>\n",
       "    </tr>\n",
       "    <tr>\n",
       "      <th>1</th>\n",
       "      <td>Spain</td>\n",
       "      <td>27.0</td>\n",
       "      <td>48000.0</td>\n",
       "      <td>Yes</td>\n",
       "    </tr>\n",
       "    <tr>\n",
       "      <th>3</th>\n",
       "      <td>Spain</td>\n",
       "      <td>38.0</td>\n",
       "      <td>61000.0</td>\n",
       "      <td>No</td>\n",
       "    </tr>\n",
       "    <tr>\n",
       "      <th>5</th>\n",
       "      <td>France</td>\n",
       "      <td>35.0</td>\n",
       "      <td>58000.0</td>\n",
       "      <td>Yes</td>\n",
       "    </tr>\n",
       "    <tr>\n",
       "      <th>7</th>\n",
       "      <td>France</td>\n",
       "      <td>48.0</td>\n",
       "      <td>79000.0</td>\n",
       "      <td>Yes</td>\n",
       "    </tr>\n",
       "    <tr>\n",
       "      <th>8</th>\n",
       "      <td>Germany</td>\n",
       "      <td>50.0</td>\n",
       "      <td>83000.0</td>\n",
       "      <td>No</td>\n",
       "    </tr>\n",
       "    <tr>\n",
       "      <th>9</th>\n",
       "      <td>France</td>\n",
       "      <td>37.0</td>\n",
       "      <td>67000.0</td>\n",
       "      <td>Yes</td>\n",
       "    </tr>\n",
       "  </tbody>\n",
       "</table>\n",
       "</div>"
      ],
      "text/plain": [
       "   Country   Age   Salary Purchased\n",
       "0   France  44.0  72000.0       Yes\n",
       "1    Spain  27.0  48000.0       Yes\n",
       "3    Spain  38.0  61000.0        No\n",
       "5   France  35.0  58000.0       Yes\n",
       "7   France  48.0  79000.0       Yes\n",
       "8  Germany  50.0  83000.0        No\n",
       "9   France  37.0  67000.0       Yes"
      ]
     },
     "execution_count": 9,
     "metadata": {},
     "output_type": "execute_result"
    }
   ],
   "source": [
    "df.dropna()#1st approach is removing the rows"
   ]
  },
  {
   "cell_type": "markdown",
   "id": "9a04e07f-debf-48b8-b244-ccb7880fcfa7",
   "metadata": {},
   "source": [
    "# 2nd Method (IMPUTER)"
   ]
  },
  {
   "cell_type": "code",
   "execution_count": 10,
   "id": "5af889c6-cfa8-4b90-ab35-50dfac8cc054",
   "metadata": {},
   "outputs": [],
   "source": [
    "imputer = SimpleImputer(missing_values = np.nan , strategy = 'mean')"
   ]
  },
  {
   "cell_type": "code",
   "execution_count": 11,
   "id": "782fad4a-40ad-4409-8c24-649458560735",
   "metadata": {},
   "outputs": [
    {
     "data": {
      "text/plain": [
       "0    72000.0\n",
       "1    48000.0\n",
       "2    54000.0\n",
       "3    61000.0\n",
       "4        NaN\n",
       "5    58000.0\n",
       "6    52000.0\n",
       "7    79000.0\n",
       "8    83000.0\n",
       "9    67000.0\n",
       "Name: Salary, dtype: float64"
      ]
     },
     "execution_count": 11,
     "metadata": {},
     "output_type": "execute_result"
    }
   ],
   "source": [
    "df['Salary']"
   ]
  },
  {
   "cell_type": "markdown",
   "id": "65b5d454-1b06-43a0-8a7a-7df2744bd65a",
   "metadata": {},
   "source": [
    "## The iloc function in pandas is used for integer-location based indexing to select by position.\n",
    "\n",
    "Here’s what you can do with iloc:\n",
    "\n",
    "Select Rows: df.iloc[0] selects the first row of the DataFrame.\n",
    "\n",
    "Select Columns: df.iloc[:, 1] selects the second column of the DataFrame.\n",
    "\n",
    "Select Specific Rows and Columns: df.iloc[0, 1] selects the element at the first row and second column.\n",
    "\n",
    "Slice DataFrames: df.iloc[0:3, 1:4] selects the first three rows and columns from the second to the fourth.\n",
    "\n",
    "It’s powerful for precise control over your data selection, especially when you need to work based on positions rather than labels\n",
    "\n"
   ]
  },
  {
   "cell_type": "code",
   "execution_count": 12,
   "id": "01db8e3a-01af-40a7-b67a-9422ea9cc65b",
   "metadata": {},
   "outputs": [],
   "source": [
    "x = df.iloc[:,1:3].values"
   ]
  },
  {
   "cell_type": "code",
   "execution_count": 13,
   "id": "7c379d0c-6a52-42ea-8bfb-c2f7307a4714",
   "metadata": {},
   "outputs": [],
   "source": [
    "imputer = SimpleImputer(missing_values = np.nan , strategy = 'mean')\n",
    "imputer.fit(df.iloc[:,1:3].values)\n",
    "\n",
    "df.iloc[:,1:3] =  imputer.transform(df.iloc[:,1:3].values)"
   ]
  },
  {
   "cell_type": "markdown",
   "id": "84bb380d-fee4-4007-81d6-578f69cda26c",
   "metadata": {},
   "source": [
    "## The fit method calculates the most frequent value in the first column of your DataFrame df (the df.iloc[:, :1].values part selects all rows and the first column, and .values converts it to a numpy array). Essentially, this step prepares the imputer to perform the replacement operation based on the most frequent value it finds.\n",
    "\n"
   ]
  },
  {
   "cell_type": "code",
   "execution_count": null,
   "id": "cb5bd831-e908-4dec-a0d9-0fe3d3c63965",
   "metadata": {},
   "outputs": [],
   "source": []
  },
  {
   "cell_type": "code",
   "execution_count": 14,
   "id": "f7bd31a0-da28-497f-8442-974ceb2027a9",
   "metadata": {},
   "outputs": [
    {
     "data": {
      "text/html": [
       "<div>\n",
       "<style scoped>\n",
       "    .dataframe tbody tr th:only-of-type {\n",
       "        vertical-align: middle;\n",
       "    }\n",
       "\n",
       "    .dataframe tbody tr th {\n",
       "        vertical-align: top;\n",
       "    }\n",
       "\n",
       "    .dataframe thead th {\n",
       "        text-align: right;\n",
       "    }\n",
       "</style>\n",
       "<table border=\"1\" class=\"dataframe\">\n",
       "  <thead>\n",
       "    <tr style=\"text-align: right;\">\n",
       "      <th></th>\n",
       "      <th>Country</th>\n",
       "      <th>Age</th>\n",
       "      <th>Salary</th>\n",
       "      <th>Purchased</th>\n",
       "    </tr>\n",
       "  </thead>\n",
       "  <tbody>\n",
       "    <tr>\n",
       "      <th>0</th>\n",
       "      <td>France</td>\n",
       "      <td>44.000000</td>\n",
       "      <td>72000.000000</td>\n",
       "      <td>Yes</td>\n",
       "    </tr>\n",
       "    <tr>\n",
       "      <th>1</th>\n",
       "      <td>Spain</td>\n",
       "      <td>27.000000</td>\n",
       "      <td>48000.000000</td>\n",
       "      <td>Yes</td>\n",
       "    </tr>\n",
       "    <tr>\n",
       "      <th>2</th>\n",
       "      <td>NaN</td>\n",
       "      <td>30.000000</td>\n",
       "      <td>54000.000000</td>\n",
       "      <td>NaN</td>\n",
       "    </tr>\n",
       "    <tr>\n",
       "      <th>3</th>\n",
       "      <td>Spain</td>\n",
       "      <td>38.000000</td>\n",
       "      <td>61000.000000</td>\n",
       "      <td>No</td>\n",
       "    </tr>\n",
       "    <tr>\n",
       "      <th>4</th>\n",
       "      <td>Germany</td>\n",
       "      <td>40.000000</td>\n",
       "      <td>63777.777778</td>\n",
       "      <td>Yes</td>\n",
       "    </tr>\n",
       "    <tr>\n",
       "      <th>5</th>\n",
       "      <td>France</td>\n",
       "      <td>35.000000</td>\n",
       "      <td>58000.000000</td>\n",
       "      <td>Yes</td>\n",
       "    </tr>\n",
       "    <tr>\n",
       "      <th>6</th>\n",
       "      <td>Spain</td>\n",
       "      <td>38.777778</td>\n",
       "      <td>52000.000000</td>\n",
       "      <td>No</td>\n",
       "    </tr>\n",
       "    <tr>\n",
       "      <th>7</th>\n",
       "      <td>France</td>\n",
       "      <td>48.000000</td>\n",
       "      <td>79000.000000</td>\n",
       "      <td>Yes</td>\n",
       "    </tr>\n",
       "    <tr>\n",
       "      <th>8</th>\n",
       "      <td>Germany</td>\n",
       "      <td>50.000000</td>\n",
       "      <td>83000.000000</td>\n",
       "      <td>No</td>\n",
       "    </tr>\n",
       "    <tr>\n",
       "      <th>9</th>\n",
       "      <td>France</td>\n",
       "      <td>37.000000</td>\n",
       "      <td>67000.000000</td>\n",
       "      <td>Yes</td>\n",
       "    </tr>\n",
       "  </tbody>\n",
       "</table>\n",
       "</div>"
      ],
      "text/plain": [
       "   Country        Age        Salary Purchased\n",
       "0   France  44.000000  72000.000000       Yes\n",
       "1    Spain  27.000000  48000.000000       Yes\n",
       "2      NaN  30.000000  54000.000000       NaN\n",
       "3    Spain  38.000000  61000.000000        No\n",
       "4  Germany  40.000000  63777.777778       Yes\n",
       "5   France  35.000000  58000.000000       Yes\n",
       "6    Spain  38.777778  52000.000000        No\n",
       "7   France  48.000000  79000.000000       Yes\n",
       "8  Germany  50.000000  83000.000000        No\n",
       "9   France  37.000000  67000.000000       Yes"
      ]
     },
     "execution_count": 14,
     "metadata": {},
     "output_type": "execute_result"
    }
   ],
   "source": [
    "df"
   ]
  },
  {
   "cell_type": "code",
   "execution_count": 15,
   "id": "b7553da7-aa88-485c-b2ae-e28165e2105f",
   "metadata": {},
   "outputs": [
    {
     "data": {
      "text/plain": [
       "array([[4.4e+01, 7.2e+04],\n",
       "       [2.7e+01, 4.8e+04],\n",
       "       [3.0e+01, 5.4e+04],\n",
       "       [3.8e+01, 6.1e+04],\n",
       "       [4.0e+01,     nan],\n",
       "       [3.5e+01, 5.8e+04],\n",
       "       [    nan, 5.2e+04],\n",
       "       [4.8e+01, 7.9e+04],\n",
       "       [5.0e+01, 8.3e+04],\n",
       "       [3.7e+01, 6.7e+04]])"
      ]
     },
     "execution_count": 15,
     "metadata": {},
     "output_type": "execute_result"
    }
   ],
   "source": [
    "x"
   ]
  },
  {
   "cell_type": "markdown",
   "id": "bd81dab1-0560-49a2-8475-43dfb0bf69fd",
   "metadata": {},
   "source": [
    "# CATEGORICAL NULL VALUES HANDLING\n"
   ]
  },
  {
   "cell_type": "code",
   "execution_count": 23,
   "id": "2222f807-3975-43f2-8a2c-6b511a270bd6",
   "metadata": {},
   "outputs": [],
   "source": [
    "imputer = SimpleImputer(missing_values = np.nan , strategy = 'most_frequent')\n",
    "imputer.fit(df.iloc[:,:1].values)\n",
    "\n",
    "df.iloc[:,:1] =  imputer.transform(df.iloc[:,:1].values)"
   ]
  },
  {
   "cell_type": "code",
   "execution_count": 24,
   "id": "d034b273-17bc-48ee-b160-b9e8fe16c2b1",
   "metadata": {},
   "outputs": [
    {
     "data": {
      "text/html": [
       "<div>\n",
       "<style scoped>\n",
       "    .dataframe tbody tr th:only-of-type {\n",
       "        vertical-align: middle;\n",
       "    }\n",
       "\n",
       "    .dataframe tbody tr th {\n",
       "        vertical-align: top;\n",
       "    }\n",
       "\n",
       "    .dataframe thead th {\n",
       "        text-align: right;\n",
       "    }\n",
       "</style>\n",
       "<table border=\"1\" class=\"dataframe\">\n",
       "  <thead>\n",
       "    <tr style=\"text-align: right;\">\n",
       "      <th></th>\n",
       "      <th>Country</th>\n",
       "      <th>Age</th>\n",
       "      <th>Salary</th>\n",
       "      <th>Purchased</th>\n",
       "    </tr>\n",
       "  </thead>\n",
       "  <tbody>\n",
       "    <tr>\n",
       "      <th>0</th>\n",
       "      <td>France</td>\n",
       "      <td>44.000000</td>\n",
       "      <td>72000.000000</td>\n",
       "      <td>Yes</td>\n",
       "    </tr>\n",
       "    <tr>\n",
       "      <th>1</th>\n",
       "      <td>Spain</td>\n",
       "      <td>27.000000</td>\n",
       "      <td>48000.000000</td>\n",
       "      <td>Yes</td>\n",
       "    </tr>\n",
       "    <tr>\n",
       "      <th>2</th>\n",
       "      <td>France</td>\n",
       "      <td>30.000000</td>\n",
       "      <td>54000.000000</td>\n",
       "      <td>NaN</td>\n",
       "    </tr>\n",
       "    <tr>\n",
       "      <th>3</th>\n",
       "      <td>Spain</td>\n",
       "      <td>38.000000</td>\n",
       "      <td>61000.000000</td>\n",
       "      <td>No</td>\n",
       "    </tr>\n",
       "    <tr>\n",
       "      <th>4</th>\n",
       "      <td>Germany</td>\n",
       "      <td>40.000000</td>\n",
       "      <td>63777.777778</td>\n",
       "      <td>Yes</td>\n",
       "    </tr>\n",
       "    <tr>\n",
       "      <th>5</th>\n",
       "      <td>France</td>\n",
       "      <td>35.000000</td>\n",
       "      <td>58000.000000</td>\n",
       "      <td>Yes</td>\n",
       "    </tr>\n",
       "    <tr>\n",
       "      <th>6</th>\n",
       "      <td>Spain</td>\n",
       "      <td>38.777778</td>\n",
       "      <td>52000.000000</td>\n",
       "      <td>No</td>\n",
       "    </tr>\n",
       "    <tr>\n",
       "      <th>7</th>\n",
       "      <td>France</td>\n",
       "      <td>48.000000</td>\n",
       "      <td>79000.000000</td>\n",
       "      <td>Yes</td>\n",
       "    </tr>\n",
       "    <tr>\n",
       "      <th>8</th>\n",
       "      <td>Germany</td>\n",
       "      <td>50.000000</td>\n",
       "      <td>83000.000000</td>\n",
       "      <td>No</td>\n",
       "    </tr>\n",
       "    <tr>\n",
       "      <th>9</th>\n",
       "      <td>France</td>\n",
       "      <td>37.000000</td>\n",
       "      <td>67000.000000</td>\n",
       "      <td>Yes</td>\n",
       "    </tr>\n",
       "  </tbody>\n",
       "</table>\n",
       "</div>"
      ],
      "text/plain": [
       "   Country        Age        Salary Purchased\n",
       "0   France  44.000000  72000.000000       Yes\n",
       "1    Spain  27.000000  48000.000000       Yes\n",
       "2   France  30.000000  54000.000000       NaN\n",
       "3    Spain  38.000000  61000.000000        No\n",
       "4  Germany  40.000000  63777.777778       Yes\n",
       "5   France  35.000000  58000.000000       Yes\n",
       "6    Spain  38.777778  52000.000000        No\n",
       "7   France  48.000000  79000.000000       Yes\n",
       "8  Germany  50.000000  83000.000000        No\n",
       "9   France  37.000000  67000.000000       Yes"
      ]
     },
     "execution_count": 24,
     "metadata": {},
     "output_type": "execute_result"
    }
   ],
   "source": [
    "df"
   ]
  },
  {
   "cell_type": "code",
   "execution_count": null,
   "id": "40041ac9-5ce2-41fe-8309-6920d33e01fc",
   "metadata": {},
   "outputs": [],
   "source": []
  }
 ],
 "metadata": {
  "kernelspec": {
   "display_name": "Python 3 (ipykernel)",
   "language": "python",
   "name": "python3"
  },
  "language_info": {
   "codemirror_mode": {
    "name": "ipython",
    "version": 3
   },
   "file_extension": ".py",
   "mimetype": "text/x-python",
   "name": "python",
   "nbconvert_exporter": "python",
   "pygments_lexer": "ipython3",
   "version": "3.12.4"
  }
 },
 "nbformat": 4,
 "nbformat_minor": 5
}
